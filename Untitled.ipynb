{
 "cells": [
  {
   "cell_type": "code",
   "execution_count": 3,
   "id": "87e8f48a-5835-4c3f-b39f-ccf16cc574cb",
   "metadata": {},
   "outputs": [
    {
     "name": "stdout",
     "output_type": "stream",
     "text": [
      "Trying to import scipy...\n",
      "Trying to import pandas...\n",
      "Trying to import matplotlib...\n",
      "Trying to import sklearn...\n",
      "Trying to import opencv_python...\n",
      "FAILED to import opencv_python: No module named 'opencv_python'\n",
      "Trying to import torch...\n",
      "FAILED to import torch: No module named 'torch'\n",
      "Trying to import tensorflow...\n",
      "FAILED to import tensorflow: No module named 'tensorflow'\n"
     ]
    }
   ],
   "source": [
    "# check_numpy_compiled.py\n",
    "import numpy as np\n",
    "import importlib\n",
    "\n",
    "packages = ['scipy', 'pandas', 'matplotlib', 'sklearn', 'opencv_python', 'torch', 'tensorflow']\n",
    "\n",
    "for pkg in packages:\n",
    "    try:\n",
    "        print(f\"Trying to import {pkg}...\")\n",
    "        mod = importlib.import_module(pkg)\n",
    "    except Exception as e:\n",
    "        print(f\"FAILED to import {pkg}: {e}\")\n"
   ]
  },
  {
   "cell_type": "code",
   "execution_count": 2,
   "id": "d1aded86-1cd6-4ec0-82a2-caa86769f819",
   "metadata": {},
   "outputs": [
    {
     "name": "stdout",
     "output_type": "stream",
     "text": [
      "Requirement already satisfied: bottleneck in c:\\users\\p154492\\appdata\\local\\anaconda3\\envs\\start\\lib\\site-packages (1.3.7)\n",
      "Collecting bottleneck\n",
      "  Downloading Bottleneck-1.4.2-cp312-cp312-win_amd64.whl.metadata (7.9 kB)\n",
      "Requirement already satisfied: numpy in c:\\users\\p154492\\appdata\\local\\anaconda3\\envs\\start\\lib\\site-packages (from bottleneck) (2.2.3)\n",
      "Downloading Bottleneck-1.4.2-cp312-cp312-win_amd64.whl (111 kB)\n",
      "Installing collected packages: bottleneck\n",
      "  Attempting uninstall: bottleneck\n",
      "    Found existing installation: Bottleneck 1.3.7\n",
      "    Uninstalling Bottleneck-1.3.7:\n",
      "      Successfully uninstalled Bottleneck-1.3.7\n",
      "Successfully installed bottleneck-1.4.2\n"
     ]
    },
    {
     "name": "stderr",
     "output_type": "stream",
     "text": [
      "  WARNING: Failed to remove contents in a temporary directory 'C:\\Users\\P154492\\AppData\\Local\\anaconda3\\envs\\Start\\Lib\\site-packages\\~ottleneck'.\n",
      "  You can safely remove it manually.\n"
     ]
    }
   ],
   "source": [
    "!pip install --upgrade bottleneck"
   ]
  },
  {
   "cell_type": "code",
   "execution_count": null,
   "id": "558e4854-1a6a-40c9-8b6d-a35c9bde0f0b",
   "metadata": {},
   "outputs": [],
   "source": []
  }
 ],
 "metadata": {
  "kernelspec": {
   "display_name": "Python 3 (ipykernel)",
   "language": "python",
   "name": "python3"
  },
  "language_info": {
   "codemirror_mode": {
    "name": "ipython",
    "version": 3
   },
   "file_extension": ".py",
   "mimetype": "text/x-python",
   "name": "python",
   "nbconvert_exporter": "python",
   "pygments_lexer": "ipython3",
   "version": "3.12.3"
  }
 },
 "nbformat": 4,
 "nbformat_minor": 5
}
