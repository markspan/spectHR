{
 "cells": [
  {
   "cell_type": "markdown",
   "id": "2b15a9ff-54e8-4583-b172-16c029676d4e",
   "metadata": {
    "extensions": {
     "jupyter_dashboards": {
      "activeView": "grid_default",
      "views": {
       "grid_default": {
        "col": null,
        "height": 2,
        "hidden": true,
        "locked": true,
        "row": null,
        "width": 2
       }
      }
     }
    }
   },
   "source": [
    "> **⚠️ CAUTION:**  \n",
    "> <p style=\"color: red;\">This project is work in progress. It can not be used for data analysis yet. Breathing and blood pressure data are totally untested/not yet implemented.</p>\n",
    "\n",
    "This project is mainly the introduction of an library. The idea is that library can be used without knowledge of `python` by using the App.\n",
    "\n",
    "# HRApp: An Interactive Heart Rate Variability (HRV) Analysis Tool\n",
    "\n",
    "## Overview\n",
    "\n",
    "The **HRApp** is an interactive tool designed to assist in the analysis of heart rate variability (HRV) data. It provides a graphical user interface (GUI) within Jupyter Notebooks to explore, preprocess, and visualize HRV data. The app organizes its features into multiple tabs, each focusing on a specific aspect of HRV analysis.\n",
    "\n",
    "## Features\n",
    "\n",
    "1. **PreProcessing Tab**  \n",
    "   - Provides tools to preprocess HRV data, such as cleaning and inspecting inter-beat intervals (IBI).\n",
    "   - Displays a customizable GUI for manipulating the dataset.\n",
    "\n",
    "2. **Poincare Tab**  \n",
    "   - Visualizes HRV data using Poincaré plots, which highlight the relationships between successive IBIs.\n",
    "   - Ideal for assessing nonlinear dynamics in heart rate data.\n",
    "\n",
    "3. **Descriptives Tab**  \n",
    "   - Computes detailed descriptive statistics for IBIs, grouped by epochs.\n",
    "   - Includes metrics such as mean, standard deviation, RMSSD, SDNN, SD1, SD2, and others.\n",
    "   - Integrates power spectral density (PSD) results into the statistics, if available.\n",
    "\n",
    "4. **PSD Tab**  \n",
    "   - Uses Welch's method to compute power spectral density (PSD) for HRV data.\n",
    "   - Groups PSD results by epochs, providing insights into the frequency domain features of HRV.\n",
    "\n",
    "5. **Epochs Tab**  \n",
    "   - Visualizes epochs of HRV data using a Gantt chart.\n",
    "   - Offers a clear representation of time-based data segmentation.\n"
   ]
  },
  {
   "cell_type": "code",
   "execution_count": 1,
   "id": "608e45cb-3487-4150-b1b9-801e6a4362a7",
   "metadata": {
    "editable": true,
    "extensions": {
     "jupyter_dashboards": {
      "activeView": "grid_default",
      "views": {
       "grid_default": {
        "col": null,
        "height": 2,
        "hidden": true,
        "locked": true,
        "row": null,
        "width": 2
       }
      }
     }
    },
    "slideshow": {
     "slide_type": ""
    },
    "tags": []
   },
   "outputs": [
    {
     "name": "stderr",
     "output_type": "stream",
     "text": [
      "\n",
      "A module that was compiled using NumPy 1.x cannot be run in\n",
      "NumPy 2.2.3 as it may crash. To support both 1.x and 2.x\n",
      "versions of NumPy, modules must be compiled with NumPy 2.0.\n",
      "Some module may need to rebuild instead e.g. with 'pybind11>=2.12'.\n",
      "\n",
      "If you are a user of the module, the easiest solution will be to\n",
      "downgrade to 'numpy<2' or try to upgrade the affected module.\n",
      "We expect that some modules will need time to support NumPy 2.\n",
      "\n",
      "Traceback (most recent call last):  File \"C:\\Users\\P154492\\AppData\\Local\\anaconda3\\envs\\Start\\Lib\\runpy.py\", line 198, in _run_module_as_main\n",
      "    return _run_code(code, main_globals, None,\n",
      "  File \"C:\\Users\\P154492\\AppData\\Local\\anaconda3\\envs\\Start\\Lib\\runpy.py\", line 88, in _run_code\n",
      "    exec(code, run_globals)\n",
      "  File \"C:\\Users\\P154492\\AppData\\Local\\anaconda3\\envs\\Start\\Lib\\site-packages\\ipykernel_launcher.py\", line 18, in <module>\n",
      "    app.launch_new_instance()\n",
      "  File \"C:\\Users\\P154492\\AppData\\Local\\anaconda3\\envs\\Start\\Lib\\site-packages\\traitlets\\config\\application.py\", line 1075, in launch_instance\n",
      "    app.start()\n",
      "  File \"C:\\Users\\P154492\\AppData\\Local\\anaconda3\\envs\\Start\\Lib\\site-packages\\ipykernel\\kernelapp.py\", line 739, in start\n",
      "    self.io_loop.start()\n",
      "  File \"C:\\Users\\P154492\\AppData\\Local\\anaconda3\\envs\\Start\\Lib\\site-packages\\tornado\\platform\\asyncio.py\", line 205, in start\n",
      "    self.asyncio_loop.run_forever()\n",
      "  File \"C:\\Users\\P154492\\AppData\\Local\\anaconda3\\envs\\Start\\Lib\\asyncio\\base_events.py\", line 641, in run_forever\n",
      "    self._run_once()\n",
      "  File \"C:\\Users\\P154492\\AppData\\Local\\anaconda3\\envs\\Start\\Lib\\asyncio\\base_events.py\", line 1987, in _run_once\n",
      "    handle._run()\n",
      "  File \"C:\\Users\\P154492\\AppData\\Local\\anaconda3\\envs\\Start\\Lib\\asyncio\\events.py\", line 88, in _run\n",
      "    self._context.run(self._callback, *self._args)\n",
      "  File \"C:\\Users\\P154492\\AppData\\Local\\anaconda3\\envs\\Start\\Lib\\site-packages\\ipykernel\\kernelbase.py\", line 545, in dispatch_queue\n",
      "    await self.process_one()\n",
      "  File \"C:\\Users\\P154492\\AppData\\Local\\anaconda3\\envs\\Start\\Lib\\site-packages\\ipykernel\\kernelbase.py\", line 534, in process_one\n",
      "    await dispatch(*args)\n",
      "  File \"C:\\Users\\P154492\\AppData\\Local\\anaconda3\\envs\\Start\\Lib\\site-packages\\ipykernel\\kernelbase.py\", line 437, in dispatch_shell\n",
      "    await result\n",
      "  File \"C:\\Users\\P154492\\AppData\\Local\\anaconda3\\envs\\Start\\Lib\\site-packages\\ipykernel\\ipkernel.py\", line 362, in execute_request\n",
      "    await super().execute_request(stream, ident, parent)\n",
      "  File \"C:\\Users\\P154492\\AppData\\Local\\anaconda3\\envs\\Start\\Lib\\site-packages\\ipykernel\\kernelbase.py\", line 778, in execute_request\n",
      "    reply_content = await reply_content\n",
      "  File \"C:\\Users\\P154492\\AppData\\Local\\anaconda3\\envs\\Start\\Lib\\site-packages\\ipykernel\\ipkernel.py\", line 449, in do_execute\n",
      "    res = shell.run_cell(\n",
      "  File \"C:\\Users\\P154492\\AppData\\Local\\anaconda3\\envs\\Start\\Lib\\site-packages\\ipykernel\\zmqshell.py\", line 549, in run_cell\n",
      "    return super().run_cell(*args, **kwargs)\n",
      "  File \"C:\\Users\\P154492\\AppData\\Local\\anaconda3\\envs\\Start\\Lib\\site-packages\\IPython\\core\\interactiveshell.py\", line 3075, in run_cell\n",
      "    result = self._run_cell(\n",
      "  File \"C:\\Users\\P154492\\AppData\\Local\\anaconda3\\envs\\Start\\Lib\\site-packages\\IPython\\core\\interactiveshell.py\", line 3130, in _run_cell\n",
      "    result = runner(coro)\n",
      "  File \"C:\\Users\\P154492\\AppData\\Local\\anaconda3\\envs\\Start\\Lib\\site-packages\\IPython\\core\\async_helpers.py\", line 128, in _pseudo_sync_runner\n",
      "    coro.send(None)\n",
      "  File \"C:\\Users\\P154492\\AppData\\Local\\anaconda3\\envs\\Start\\Lib\\site-packages\\IPython\\core\\interactiveshell.py\", line 3334, in run_cell_async\n",
      "    has_raised = await self.run_ast_nodes(code_ast.body, cell_name,\n",
      "  File \"C:\\Users\\P154492\\AppData\\Local\\anaconda3\\envs\\Start\\Lib\\site-packages\\IPython\\core\\interactiveshell.py\", line 3517, in run_ast_nodes\n",
      "    if await self.run_code(code, result, async_=asy):\n",
      "  File \"C:\\Users\\P154492\\AppData\\Local\\anaconda3\\envs\\Start\\Lib\\site-packages\\IPython\\core\\interactiveshell.py\", line 3577, in run_code\n",
      "    exec(code_obj, self.user_global_ns, self.user_ns)\n",
      "  File \"C:\\Users\\P154492\\AppData\\Local\\Temp\\ipykernel_19324\\157158933.py\", line 1, in <module>\n",
      "    import spectHR as cs\n",
      "  File \"C:\\Users\\P154492\\Documents\\GitHub\\spectHR\\spectHR\\__init__.py\", line 2, in <module>\n",
      "    from spectHR.Plots.prepPlot import prepPlot\n",
      "  File \"C:\\Users\\P154492\\Documents\\GitHub\\spectHR\\spectHR\\Plots\\prepPlot.py\", line 16, in <module>\n",
      "    import pandas as pd\n",
      "  File \"C:\\Users\\P154492\\AppData\\Local\\anaconda3\\envs\\Start\\Lib\\site-packages\\pandas\\__init__.py\", line 62, in <module>\n",
      "    from pandas.core.api import (\n",
      "  File \"C:\\Users\\P154492\\AppData\\Local\\anaconda3\\envs\\Start\\Lib\\site-packages\\pandas\\core\\api.py\", line 28, in <module>\n",
      "    from pandas.core.arrays import Categorical\n",
      "  File \"C:\\Users\\P154492\\AppData\\Local\\anaconda3\\envs\\Start\\Lib\\site-packages\\pandas\\core\\arrays\\__init__.py\", line 1, in <module>\n",
      "    from pandas.core.arrays.arrow import ArrowExtensionArray\n",
      "  File \"C:\\Users\\P154492\\AppData\\Local\\anaconda3\\envs\\Start\\Lib\\site-packages\\pandas\\core\\arrays\\arrow\\__init__.py\", line 5, in <module>\n",
      "    from pandas.core.arrays.arrow.array import ArrowExtensionArray\n",
      "  File \"C:\\Users\\P154492\\AppData\\Local\\anaconda3\\envs\\Start\\Lib\\site-packages\\pandas\\core\\arrays\\arrow\\array.py\", line 64, in <module>\n",
      "    from pandas.core.arrays.masked import BaseMaskedArray\n",
      "  File \"C:\\Users\\P154492\\AppData\\Local\\anaconda3\\envs\\Start\\Lib\\site-packages\\pandas\\core\\arrays\\masked.py\", line 60, in <module>\n",
      "    from pandas.core import (\n",
      "  File \"C:\\Users\\P154492\\AppData\\Local\\anaconda3\\envs\\Start\\Lib\\site-packages\\pandas\\core\\nanops.py\", line 52, in <module>\n",
      "    bn = import_optional_dependency(\"bottleneck\", errors=\"warn\")\n",
      "  File \"C:\\Users\\P154492\\AppData\\Local\\anaconda3\\envs\\Start\\Lib\\site-packages\\pandas\\compat\\_optional.py\", line 135, in import_optional_dependency\n",
      "    module = importlib.import_module(name)\n",
      "  File \"C:\\Users\\P154492\\AppData\\Local\\anaconda3\\envs\\Start\\Lib\\importlib\\__init__.py\", line 90, in import_module\n",
      "    return _bootstrap._gcd_import(name[level:], package, level)\n",
      "  File \"C:\\Users\\P154492\\AppData\\Local\\anaconda3\\envs\\Start\\Lib\\site-packages\\bottleneck\\__init__.py\", line 7, in <module>\n",
      "    from .move import (move_argmax, move_argmin, move_max, move_mean, move_median,\n"
     ]
    },
    {
     "ename": "ImportError",
     "evalue": "\nA module that was compiled using NumPy 1.x cannot be run in\nNumPy 2.2.3 as it may crash. To support both 1.x and 2.x\nversions of NumPy, modules must be compiled with NumPy 2.0.\nSome module may need to rebuild instead e.g. with 'pybind11>=2.12'.\n\nIf you are a user of the module, the easiest solution will be to\ndowngrade to 'numpy<2' or try to upgrade the affected module.\nWe expect that some modules will need time to support NumPy 2.\n\n",
     "output_type": "error",
     "traceback": [
      "\u001b[1;31m---------------------------------------------------------------------------\u001b[0m",
      "\u001b[1;31mImportError\u001b[0m                               Traceback (most recent call last)",
      "File \u001b[1;32m~\\AppData\\Local\\anaconda3\\envs\\Start\\Lib\\site-packages\\numpy\\core\\_multiarray_umath.py:44\u001b[0m, in \u001b[0;36m__getattr__\u001b[1;34m(attr_name)\u001b[0m\n\u001b[0;32m     39\u001b[0m     \u001b[38;5;66;03m# Also print the message (with traceback).  This is because old versions\u001b[39;00m\n\u001b[0;32m     40\u001b[0m     \u001b[38;5;66;03m# of NumPy unfortunately set up the import to replace (and hide) the\u001b[39;00m\n\u001b[0;32m     41\u001b[0m     \u001b[38;5;66;03m# error.  The traceback shouldn't be needed, but e.g. pytest plugins\u001b[39;00m\n\u001b[0;32m     42\u001b[0m     \u001b[38;5;66;03m# seem to swallow it and we should be failing anyway...\u001b[39;00m\n\u001b[0;32m     43\u001b[0m     sys\u001b[38;5;241m.\u001b[39mstderr\u001b[38;5;241m.\u001b[39mwrite(msg \u001b[38;5;241m+\u001b[39m tb_msg)\n\u001b[1;32m---> 44\u001b[0m     \u001b[38;5;28;01mraise\u001b[39;00m \u001b[38;5;167;01mImportError\u001b[39;00m(msg)\n\u001b[0;32m     46\u001b[0m ret \u001b[38;5;241m=\u001b[39m \u001b[38;5;28mgetattr\u001b[39m(_multiarray_umath, attr_name, \u001b[38;5;28;01mNone\u001b[39;00m)\n\u001b[0;32m     47\u001b[0m \u001b[38;5;28;01mif\u001b[39;00m ret \u001b[38;5;129;01mis\u001b[39;00m \u001b[38;5;28;01mNone\u001b[39;00m:\n",
      "\u001b[1;31mImportError\u001b[0m: \nA module that was compiled using NumPy 1.x cannot be run in\nNumPy 2.2.3 as it may crash. To support both 1.x and 2.x\nversions of NumPy, modules must be compiled with NumPy 2.0.\nSome module may need to rebuild instead e.g. with 'pybind11>=2.12'.\n\nIf you are a user of the module, the easiest solution will be to\ndowngrade to 'numpy<2' or try to upgrade the affected module.\nWe expect that some modules will need time to support NumPy 2.\n\n"
     ]
    },
    {
     "data": {
      "application/vnd.jupyter.widget-view+json": {
       "model_id": "f64b778c2f4d4d5d8ab8a55796f1beef",
       "version_major": 2,
       "version_minor": 0
      },
      "text/plain": [
       "Output(layout=Layout(border_bottom='1px solid black', border_left='1px solid black', border_right='1px solid b…"
      ]
     },
     "metadata": {},
     "output_type": "display_data"
    }
   ],
   "source": [
    "import spectHR as cs\n",
    "# include matplotlib **only** to set the style\n",
    "import matplotlib.pyplot as plt\n",
    "\n",
    "%matplotlib widget\n",
    "plt.style.use('seaborn-v0_8-colorblind')\n",
    "\n",
    "# Create the Log Output here:\n",
    "cs.handler.show_logs()"
   ]
  },
  {
   "cell_type": "markdown",
   "id": "77733e08-552c-4fab-869d-6abb37c5380d",
   "metadata": {
    "extensions": {
     "jupyter_dashboards": {
      "activeView": "grid_default",
      "views": {
       "grid_default": {
        "col": null,
        "height": 2,
        "hidden": true,
        "locked": true,
        "row": null,
        "width": 2
       }
      }
     }
    }
   },
   "source": [
    "# Demo\n",
    "\n",
    "## Dataset loading:\n",
    "\n",
    "Data that can be loaded are for now restricted to the [`xdf`](https://github.com/sccn/xdf) type used by [`labstreaminglayer`](https://labstreaminglayer.readthedocs.io/info/intro.html). The data tested are all recorded using the [`labrecorder`](https://github.com/labstreaminglayer/App-LabRecorder/releases), and streamed with the [`polarGUI`](https://github.com/markspan/PolarBand2lsl/releases/tag/v1.0.0) utility that streams data from the Polar H10 Band. Markers should be a seperate stream, with start- and stop markers. In the demo they are streamed through python inline code in [`opensesame`](https://osdoc.cogsci.nl/4.0/download). \n",
    "\n",
    "The call to `borderData` cuts the data from 1 second before the first marker, to one second after the last marker. To do any meaningfull analysis, the call to `calcPeaks` is mandatory: it attaches the DataFrame 'RTops' to hte DataSet. \n",
    "\n",
    "The code below creates a fileselector that shows all the .xdf nd all the .txt files in the current directory (minus TODO.txt). Selecting one will show the dataset as is now is: changes (edits) should be reflected immideately. If you want to continue editing later, this should be automatic. If you want to re-read the data you can opt to delete the pickle file from the cache directort, or change the `reset = False` to true in the preProc function below.\n",
    "\n"
   ]
  },
  {
   "cell_type": "code",
   "execution_count": 2,
   "id": "f5cbc7fb-e9eb-49bb-a572-6a48029ccf86",
   "metadata": {
    "extensions": {
     "jupyter_dashboards": {
      "activeView": "grid_default",
      "views": {
       "grid_default": {
        "col": null,
        "height": 2,
        "hidden": true,
        "locked": true,
        "row": null,
        "width": 2
       }
      }
     }
    }
   },
   "outputs": [],
   "source": [
    "\n",
    "%matplotlib widget\n",
    "import ipywidgets as widgets\n",
    "import glob\n",
    "import spectHR as cs  \n",
    "from IPython.display import display\n",
    "\n",
    "# Retrieve lists of available files\n",
    "xdffiles = glob.glob(\"*.xdf\")  # List all .xdf files\n",
    "rawfiles = glob.glob(\"*.txt\")  # List all .txt files\n",
    "harness = glob.glob(\"*._csv\")  # List all .txt files\n",
    "# Exclude specific files that should not be processed\n",
    "if \"TODO.txt\" in rawfiles:\n",
    "    rawfiles.remove(\"TODO.txt\")\n",
    "\n",
    "# Create a file selection widget\n",
    "fileselector = widgets.Select(\n",
    "    options = xdffiles + rawfiles + harness,  # Available file options\n",
    "    value = xdffiles[0] if xdffiles else None,  # Default selection (first .xdf file if available)\n",
    "    description = 'File:',\n",
    "    disabled = False,\n",
    "    rows = 10,\n",
    ")\n",
    "\n",
    "# Function to preprocess ECG data\n",
    "def preprocess_data(file_name):\n",
    "    \"\"\"\n",
    "    Load and preprocess ECG data from the selected file.\n",
    "    Steps:\n",
    "    1. Load dataset with SpectHRDataset.\n",
    "    2. Slice ECG time series (from 4s to 1000000s).\n",
    "    3. Apply border correction.\n",
    "    4. Apply high-pass filter (cutoff = 1 Hz).\n",
    "    \"\"\"\n",
    "    dataset = cs.SpectHRDataset(file_name, reset=False, flip='auto')\n",
    "    dataset.ecg = dataset.ecg.slicetime(80, 8000)\n",
    "    dataset = cs.borderData(dataset)\n",
    "    dataset = cs.filterECGData(dataset, {\"filterType\": \"highpass\", \"cutoff\": 1})\n",
    "    return dataset\n",
    "\n",
    "# Output widget to display the application interface\n",
    "myApp = widgets.Output()\n",
    "\n",
    "# Dictionary to store preprocessed datasets\n",
    "data_store = {name: preprocess_data(name) for name in xdffiles + rawfiles + harness}\n",
    "\n",
    "# Default dataset selection\n",
    "DataSet = data_store[fileselector.value] if fileselector.value else None\n",
    "\n",
    "# Event handler for file selection change\n",
    "def on_file_change(change):\n",
    "    \"\"\"\n",
    "    Handle changes in the file selection widget.\n",
    "    Steps:\n",
    "    1. Save the current dataset state.\n",
    "    2. Update DataSet to the new selection.\n",
    "    3. If peak data (RTops) is missing, compute peaks.\n",
    "    4. Refresh and display the HRV analysis app.\n",
    "    \"\"\"\n",
    "    global DataSet\n",
    "    if change['type'] == 'change' and change['name'] == 'value':\n",
    "        old_file = change['old']\n",
    "        new_file = change['new']\n",
    "        \n",
    "        # Save the state of the previous dataset\n",
    "        data_store[old_file] = DataSet\n",
    "        \n",
    "        # Load new dataset\n",
    "        DataSet = data_store[new_file]\n",
    "        \n",
    "        # Compute peaks if not already calculated\n",
    "        if not hasattr(DataSet, 'RTops'):\n",
    "            DataSet = cs.calcPeaks(DataSet)\n",
    "        \n",
    "        # Display the HRV app\n",
    "        with myApp:\n",
    "            myApp.clear_output()\n",
    "            display(cs.HRApp(DataSet))\n",
    "\n",
    "# Attach event listener to file selection widget\n",
    "fileselector.observe(on_file_change, names='value')\n"
   ]
  },
  {
   "cell_type": "markdown",
   "id": "7441461c-a360-48c4-b406-85d9b531c75c",
   "metadata": {
    "extensions": {
     "jupyter_dashboards": {
      "activeView": "grid_default",
      "views": {
       "grid_default": {
        "col": null,
        "height": 2,
        "hidden": true,
        "locked": true,
        "row": null,
        "width": 2
       }
      }
     }
    }
   },
   "source": [
    "## Running the App\n",
    "\n",
    "Call the app, with the fileselector as input. "
   ]
  },
  {
   "cell_type": "code",
   "execution_count": 3,
   "id": "9a424636-5650-4ded-953e-80ec2ddcc111",
   "metadata": {
    "extensions": {
     "jupyter_dashboards": {
      "activeView": "grid_default",
      "views": {
       "grid_default": {
        "col": 0,
        "height": 23,
        "hidden": false,
        "locked": true,
        "row": 0,
        "width": 12
       }
      }
     }
    }
   },
   "outputs": [
    {
     "data": {
      "application/vnd.jupyter.widget-view+json": {
       "model_id": "6b64e04237af48888cd0f78bd08793fc",
       "version_major": 2,
       "version_minor": 0
      },
      "text/plain": [
       "Select(description='File:', options=('SUB_002.xdf', 'SUB_013.xdf', 'SUB_022.xdf', 'POLARDATA.txt', 'Data._csv'…"
      ]
     },
     "metadata": {},
     "output_type": "display_data"
    },
    {
     "data": {
      "application/vnd.jupyter.widget-view+json": {
       "model_id": "b1deb4f8e3b04345a385bb0e59726c04",
       "version_major": 2,
       "version_minor": 0
      },
      "text/plain": [
       "Output()"
      ]
     },
     "metadata": {},
     "output_type": "display_data"
    }
   ],
   "source": [
    "display(fileselector)\n",
    "display(myApp)"
   ]
  },
  {
   "cell_type": "code",
   "execution_count": 4,
   "id": "26de5863-76b7-4605-9e1e-af74d98ffe34",
   "metadata": {},
   "outputs": [
    {
     "name": "stdout",
     "output_type": "stream",
     "text": [
      "Magic is 0.6791066527366638\n"
     ]
    }
   ],
   "source": [
    "data = cs.SpectHRDataset('Data._csv', reset = True)\n",
    "data2 = cs.SpectHRDataset('SUB_002.xdf', reset = True)"
   ]
  },
  {
   "cell_type": "code",
   "execution_count": 5,
   "id": "d517b34a-0543-418f-af30-31068858f4f5",
   "metadata": {},
   "outputs": [],
   "source": [
    "dataset = cs.filterECGData(data2, {\"filterType\": \"highpass\", \"cutoff\": 10})"
   ]
  },
  {
   "cell_type": "code",
   "execution_count": 6,
   "id": "d47201bc-3684-4126-b076-feb7603fd3ec",
   "metadata": {},
   "outputs": [
    {
     "data": {
      "text/plain": [
       "250"
      ]
     },
     "execution_count": 6,
     "metadata": {},
     "output_type": "execute_result"
    }
   ],
   "source": [
    "data.ecg.srate"
   ]
  },
  {
   "cell_type": "code",
   "execution_count": 11,
   "id": "ad7f9c41-af7e-4267-b981-e1ee6cf63e63",
   "metadata": {},
   "outputs": [
    {
     "data": {
      "text/plain": [
       "0            0.000\n",
       "1            0.004\n",
       "2            0.008\n",
       "3            0.012\n",
       "4            0.016\n",
       "            ...   \n",
       "266296    1065.184\n",
       "266297    1065.188\n",
       "266298    1065.192\n",
       "266299    1065.196\n",
       "266300    1065.200\n",
       "Length: 266301, dtype: float64"
      ]
     },
     "execution_count": 11,
     "metadata": {},
     "output_type": "execute_result"
    }
   ],
   "source": [
    "data.ecg.time"
   ]
  },
  {
   "cell_type": "code",
   "execution_count": null,
   "id": "b36a3621-8002-4e17-8c99-5d666e41b036",
   "metadata": {},
   "outputs": [],
   "source": []
  }
 ],
 "metadata": {
  "extensions": {
   "jupyter_dashboards": {
    "activeView": "grid_default",
    "version": 1,
    "views": {
     "grid_default": {
      "cellMargin": 0,
      "defaultCellHeight": 40,
      "maxColumns": 12,
      "name": "spectHR",
      "type": "grid"
     }
    }
   }
  },
  "kernelspec": {
   "display_name": "Python 3 (ipykernel)",
   "language": "python",
   "name": "python3"
  },
  "language_info": {
   "codemirror_mode": {
    "name": "ipython",
    "version": 3
   },
   "file_extension": ".py",
   "mimetype": "text/x-python",
   "name": "python",
   "nbconvert_exporter": "python",
   "pygments_lexer": "ipython3",
   "version": "3.12.3"
  }
 },
 "nbformat": 4,
 "nbformat_minor": 5
}
